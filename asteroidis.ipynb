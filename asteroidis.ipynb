{
 "cells": [
  {
   "cell_type": "markdown",
   "metadata": {},
   "source": [
    "# Asteroidis\n",
    "Predict Future threats to civilization and civilization that is situated on other habitable planets in our solar system.\n",
    "\n",
    "It can download its own dataset and extract the dataset archive folder. You might need a good internet connection to download the dataset without any problems."
   ]
  },
  {
   "cell_type": "markdown",
   "metadata": {},
   "source": [
    "To Run:\n",
    "```console\n",
    "    py index.py\n",
    "``` "
   ]
  }
 ],
 "metadata": {
  "kernelspec": {
   "display_name": "Python 3.9.12 ('base')",
   "language": "python",
   "name": "python3"
  },
  "language_info": {
   "codemirror_mode": {
    "name": "ipython",
    "version": 3
   },
   "file_extension": ".py",
   "mimetype": "text/x-python",
   "name": "python",
   "nbconvert_exporter": "python",
   "pygments_lexer": "ipython3",
   "version": "3.9.12"
  },
  "orig_nbformat": 4,
  "vscode": {
   "interpreter": {
    "hash": "c6d8aca42973d758cd136a7accbea6222a7eba2752a1b696e5e000cd9c779408"
   }
  }
 },
 "nbformat": 4,
 "nbformat_minor": 2
}
