{
 "cells": [
  {
   "cell_type": "markdown",
   "metadata": {},
   "source": [
    "# Asteroidis\n",
    "Predict Future threats to civilization and civilization that is situated on other habitable planets in our solar system.\n",
    "\n",
    "It can download its own dataset and extract the dataset archive folder. You might need a good internet connection to download the dataset without any problems.\n",
    "\n",
    "Prequisites:<br>\n",
    "    * 500mb+ disk space for dataset<br>\n",
    "    * 1gb + memory for runtime<br>\n",
    "    * Good internet connection\n",
    "\n",
    "> Mafee is not liable for any false predictions.<br>\n",
    "> \"Mafee\" is a codename"
   ]
  },
  {
   "cell_type": "markdown",
   "metadata": {},
   "source": [
    "It predicts the asteroid which can cause major damage based on the dataset from kaggle.com"
   ]
  },
  {
   "cell_type": "markdown",
   "metadata": {},
   "source": [
    "To Run:\n",
    "```console\n",
    "    py index.py\n",
    "``` "
   ]
  },
  {
   "cell_type": "markdown",
   "metadata": {},
   "source": [
    "1) Download Dataset\n",
    "    Enter \"y\" to proceed downloading\n",
    "    * It may take some time to download as the dataset it pretty big"
   ]
  },
  {
   "cell_type": "markdown",
   "metadata": {},
   "source": [
    "2) After the dataset it is downloaded\n",
    "    * Loading of the dataset\n",
    "    * Information Prompt Choice: (y / n) for information about the dataset"
   ]
  },
  {
   "cell_type": "markdown",
   "metadata": {},
   "source": [
    "3) Prediction\n",
    "    * KNeighbors is being used\n",
    "    * Filtering of \"NotaNumber\"(NaN) values\n",
    "    * X = Diameters\n",
    "    * Y = Names of Asteroids\n",
    "    * Fitting to the classifier\n",
    "    * Prediction and Output of the result"
   ]
  }
 ],
 "metadata": {
  "kernelspec": {
   "display_name": "Python 3.9.12 ('base')",
   "language": "python",
   "name": "python3"
  },
  "language_info": {
   "codemirror_mode": {
    "name": "ipython",
    "version": 3
   },
   "file_extension": ".py",
   "mimetype": "text/x-python",
   "name": "python",
   "nbconvert_exporter": "python",
   "pygments_lexer": "ipython3",
   "version": "3.9.12"
  },
  "orig_nbformat": 4,
  "vscode": {
   "interpreter": {
    "hash": "c6d8aca42973d758cd136a7accbea6222a7eba2752a1b696e5e000cd9c779408"
   }
  }
 },
 "nbformat": 4,
 "nbformat_minor": 2
}
